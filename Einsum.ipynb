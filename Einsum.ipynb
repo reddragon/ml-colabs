{
  "nbformat": 4,
  "nbformat_minor": 0,
  "metadata": {
    "colab": {
      "name": "Einsum.ipynb",
      "provenance": [],
      "last_runtime": {
        "build_target": "//learning/deepmind/public/tools/ml_python:ml_notebook",
        "kind": "private"
      }
    },
    "kernelspec": {
      "name": "python3",
      "display_name": "Python 3"
    },
    "language_info": {
      "name": "python"
    }
  },
  "cells": [
    {
      "cell_type": "markdown",
      "source": [
        "# Quick Einsum Examples.\n",
        "\n",
        "Based on the Einsum tutorial [here](https://www.youtube.com/watch?v=pkVwUVEHmfI). "
      ],
      "metadata": {
        "id": "CCwEMUxo8NcX"
      }
    },
    {
      "cell_type": "code",
      "execution_count": 1,
      "metadata": {
        "colab": {
          "height": 35
        },
        "id": "8Jnb9gsDyczf",
        "executionInfo": {
          "status": "ok",
          "timestamp": 1646244196911,
          "user_tz": 480,
          "elapsed": 5251,
          "user": {
            "displayName": "Gaurav Menghani",
            "photoUrl": "https://lh3.googleusercontent.com/a-/AOh14Gin4YmK07KbTQCOaEDTSVJmp82YzqBN42-_CGyK=s64",
            "userId": "08715221840527271338"
          }
        },
        "outputId": "ab1bf0e3-ec85-41be-a915-1c9ba33a9482"
      },
      "outputs": [
        {
          "output_type": "execute_result",
          "data": {
            "application/vnd.google.colaboratory.intrinsic+json": {
              "type": "string"
            },
            "text/plain": [
              "'2.9.0'"
            ]
          },
          "metadata": {},
          "execution_count": 1
        }
      ],
      "source": [
        "import tensorflow as tf\n",
        "tf.__version__"
      ]
    },
    {
      "cell_type": "code",
      "source": [
        "# Just create a random matrix.\n",
        "x = tf.random.uniform((2,3))\n",
        "print(x)"
      ],
      "metadata": {
        "id": "Vu016cgMzQf6",
        "executionInfo": {
          "status": "ok",
          "timestamp": 1646244266357,
          "user_tz": 480,
          "elapsed": 2,
          "user": {
            "displayName": "Gaurav Menghani",
            "photoUrl": "https://lh3.googleusercontent.com/a-/AOh14Gin4YmK07KbTQCOaEDTSVJmp82YzqBN42-_CGyK=s64",
            "userId": "08715221840527271338"
          }
        },
        "outputId": "00fe6007-09a3-4f7b-ec79-31befc4fbb80"
      },
      "execution_count": 5,
      "outputs": [
        {
          "output_type": "stream",
          "name": "stdout",
          "text": [
            "tf.Tensor(\n",
            "[[0.22854877 0.91063654 0.26433897]\n",
            " [0.8855262  0.8261514  0.1433636 ]], shape=(2, 3), dtype=float32)\n"
          ]
        }
      ]
    },
    {
      "cell_type": "code",
      "source": [
        "# There are no summation indices, only loop indices.\n",
        "# We can confidently shuffle those.\n",
        "x_permuted = tf.einsum(\"ij->ji\", x)\n",
        "tf.assert_equal(x_permuted, tf.transpose(x, perm=[1, 0]))\n",
        "print(x_permuted)"
      ],
      "metadata": {
        "id": "ll-oVcdbzajx",
        "executionInfo": {
          "status": "ok",
          "timestamp": 1646245636427,
          "user_tz": 480,
          "elapsed": 3,
          "user": {
            "displayName": "Gaurav Menghani",
            "photoUrl": "https://lh3.googleusercontent.com/a-/AOh14Gin4YmK07KbTQCOaEDTSVJmp82YzqBN42-_CGyK=s64",
            "userId": "08715221840527271338"
          }
        },
        "outputId": "b695e5df-73e7-4235-8a26-0cd71fd9022a"
      },
      "execution_count": 22,
      "outputs": [
        {
          "output_type": "stream",
          "name": "stdout",
          "text": [
            "tf.Tensor(\n",
            "[[0.22854877 0.8855262 ]\n",
            " [0.91063654 0.8261514 ]\n",
            " [0.26433897 0.1433636 ]], shape=(3, 2), dtype=float32)\n"
          ]
        }
      ]
    },
    {
      "cell_type": "code",
      "source": [
        "# Both are summation indices, so we get the sum directly.\n",
        "x_sum = tf.einsum(\"ij->\", x)\n",
        "tf.assert_equal(x_sum, tf.reduce_sum(x_sum))\n",
        "print(x_sum)"
      ],
      "metadata": {
        "id": "uSfmCgkG1t1B",
        "executionInfo": {
          "status": "ok",
          "timestamp": 1646245674568,
          "user_tz": 480,
          "elapsed": 56,
          "user": {
            "displayName": "Gaurav Menghani",
            "photoUrl": "https://lh3.googleusercontent.com/a-/AOh14Gin4YmK07KbTQCOaEDTSVJmp82YzqBN42-_CGyK=s64",
            "userId": "08715221840527271338"
          }
        },
        "outputId": "a4140ae1-83c3-4b6c-b790-55ddf8bd1b1d"
      },
      "execution_count": 24,
      "outputs": [
        {
          "output_type": "stream",
          "name": "stdout",
          "text": [
            "tf.Tensor(3.2585654, shape=(), dtype=float32)\n"
          ]
        }
      ]
    },
    {
      "cell_type": "code",
      "source": [
        "# We pick one of the indices as the summation index.\n",
        "x_sum_along_axis_0 = tf.einsum(\"ij->j\", x)\n",
        "tf.assert_equal(x_sum_along_axis_0, \n",
        "                tf.reduce_sum(x, axis=0))\n",
        "print(x_sum_along_axis_0)\n",
        "\n",
        "x_sum_along_axis_1 = tf.einsum(\"ij->i\", x)\n",
        "tf.assert_equal(x_sum_along_axis_1, \n",
        "                tf.reduce_sum(x, axis=1))\n",
        "print(x_sum_along_axis_1)"
      ],
      "metadata": {
        "id": "2g0BnRWO0iRb",
        "executionInfo": {
          "status": "ok",
          "timestamp": 1646245709583,
          "user_tz": 480,
          "elapsed": 57,
          "user": {
            "displayName": "Gaurav Menghani",
            "photoUrl": "https://lh3.googleusercontent.com/a-/AOh14Gin4YmK07KbTQCOaEDTSVJmp82YzqBN42-_CGyK=s64",
            "userId": "08715221840527271338"
          }
        },
        "outputId": "eb0a37cb-b34b-46ba-b60b-57264f4b9b46"
      },
      "execution_count": 25,
      "outputs": [
        {
          "output_type": "stream",
          "name": "stdout",
          "text": [
            "tf.Tensor([1.114075   1.7367879  0.40770257], shape=(3,), dtype=float32)\n",
            "tf.Tensor([1.4035243 1.8550411], shape=(2,), dtype=float32)\n"
          ]
        }
      ]
    },
    {
      "cell_type": "code",
      "source": [
        "# Pick another random vector matrix.\n",
        "v = tf.random.uniform((1,3))\n",
        "print(v)"
      ],
      "metadata": {
        "id": "s2b22e_t2beh",
        "executionInfo": {
          "status": "ok",
          "timestamp": 1646245347464,
          "user_tz": 480,
          "elapsed": 2,
          "user": {
            "displayName": "Gaurav Menghani",
            "photoUrl": "https://lh3.googleusercontent.com/a-/AOh14Gin4YmK07KbTQCOaEDTSVJmp82YzqBN42-_CGyK=s64",
            "userId": "08715221840527271338"
          }
        },
        "outputId": "c4b53581-fe10-43c6-9e7b-d5148d91f7b0"
      },
      "execution_count": 16,
      "outputs": [
        {
          "output_type": "stream",
          "name": "stdout",
          "text": [
            "tf.Tensor([[0.07929385 0.292992   0.34711337]], shape=(1, 3), dtype=float32)\n"
          ]
        }
      ]
    },
    {
      "cell_type": "code",
      "source": [
        "# Matrix vector multiplication.\n",
        "# Write out what you want as loops and summations as shown in the video.\n",
        "# This helps convert it to einsum.\n",
        "mv_mult = tf.einsum(\"ij,kj->i\", x, v)\n",
        "tf.assert_equal(mv_mult, tf.linalg.matvec(x, v))\n",
        "print(mv_mult)"
      ],
      "metadata": {
        "id": "c-c2Xfd-2k9v",
        "executionInfo": {
          "status": "ok",
          "timestamp": 1646246366929,
          "user_tz": 480,
          "elapsed": 3,
          "user": {
            "displayName": "Gaurav Menghani",
            "photoUrl": "https://lh3.googleusercontent.com/a-/AOh14Gin4YmK07KbTQCOaEDTSVJmp82YzqBN42-_CGyK=s64",
            "userId": "08715221840527271338"
          }
        },
        "outputId": "e2d241f1-10e0-4a97-9b67-c47186b6d235"
      },
      "execution_count": 39,
      "outputs": [
        {
          "output_type": "stream",
          "name": "stdout",
          "text": [
            "tf.Tensor([0.37668732 0.36203593], shape=(2,), dtype=float32)\n"
          ]
        }
      ]
    },
    {
      "cell_type": "code",
      "source": [
        "# Another random matrix for matrix-matrix multiplication.\n",
        "y = tf.random.uniform((3, 2))\n",
        "print(y)"
      ],
      "metadata": {
        "id": "i65ngfx57nte",
        "executionInfo": {
          "status": "ok",
          "timestamp": 1646246479888,
          "user_tz": 480,
          "elapsed": 2,
          "user": {
            "displayName": "Gaurav Menghani",
            "photoUrl": "https://lh3.googleusercontent.com/a-/AOh14Gin4YmK07KbTQCOaEDTSVJmp82YzqBN42-_CGyK=s64",
            "userId": "08715221840527271338"
          }
        },
        "outputId": "d3c9aca3-61ab-4db0-ebae-1f7eca0d2c94"
      },
      "execution_count": 40,
      "outputs": [
        {
          "output_type": "stream",
          "name": "stdout",
          "text": [
            "tf.Tensor(\n",
            "[[0.90759623 0.37361777]\n",
            " [0.24184144 0.02720988]\n",
            " [0.63535583 0.6381259 ]], shape=(3, 2), dtype=float32)\n"
          ]
        }
      ]
    },
    {
      "cell_type": "code",
      "source": [
        "# Matrix-Matrix multiplication.\n",
        "mm_mult = tf.einsum(\"ij,jk->ik\", x, y)\n",
        "tf.assert_equal(mm_mult, tf.matmul(x, y))\n",
        "print(mm_mult)"
      ],
      "metadata": {
        "id": "GYA_POrE7-a_",
        "executionInfo": {
          "status": "ok",
          "timestamp": 1646246537315,
          "user_tz": 480,
          "elapsed": 54,
          "user": {
            "displayName": "Gaurav Menghani",
            "photoUrl": "https://lh3.googleusercontent.com/a-/AOh14Gin4YmK07KbTQCOaEDTSVJmp82YzqBN42-_CGyK=s64",
            "userId": "08715221840527271338"
          }
        },
        "outputId": "a00ab322-e64d-494e-b375-914e9a2083f0"
      },
      "execution_count": 41,
      "outputs": [
        {
          "output_type": "stream",
          "name": "stdout",
          "text": [
            "tf.Tensor(\n",
            "[[0.59560895 0.27884972]\n",
            " [1.0945847  0.44481182]], shape=(2, 2), dtype=float32)\n"
          ]
        }
      ]
    },
    {
      "cell_type": "code",
      "source": [
        "# First row dot product.\n",
        "first_row_dot = tf.einsum(\"i,i->\", x[0], x[0])\n",
        "tf.debugging.assert_near(first_row_dot, tf.tensordot(x[0], x[0], axes=1))"
      ],
      "metadata": {
        "id": "k_D3f4PF8hQP",
        "executionInfo": {
          "status": "ok",
          "timestamp": 1646247412014,
          "user_tz": 480,
          "elapsed": 2,
          "user": {
            "displayName": "Gaurav Menghani",
            "photoUrl": "https://lh3.googleusercontent.com/a-/AOh14Gin4YmK07KbTQCOaEDTSVJmp82YzqBN42-_CGyK=s64",
            "userId": "08715221840527271338"
          }
        }
      },
      "execution_count": 57,
      "outputs": []
    },
    {
      "cell_type": "code",
      "source": [
        "# Dot products between matrices.\n",
        "mm_dot = tf.einsum(\"ij,ij->\", x, x)\n",
        "# TODO: Figuring out tensordot representation for this.\n",
        "print(mm_dot)"
      ],
      "metadata": {
        "id": "xkkwrKN286tl",
        "executionInfo": {
          "status": "ok",
          "timestamp": 1646247938149,
          "user_tz": 480,
          "elapsed": 2,
          "user": {
            "displayName": "Gaurav Menghani",
            "photoUrl": "https://lh3.googleusercontent.com/a-/AOh14Gin4YmK07KbTQCOaEDTSVJmp82YzqBN42-_CGyK=s64",
            "userId": "08715221840527271338"
          }
        },
        "outputId": "63e2d19b-fda1-4c01-df2b-0cee027751b1"
      },
      "execution_count": 64,
      "outputs": [
        {
          "output_type": "stream",
          "name": "stdout",
          "text": [
            "tf.Tensor(2.4386044, shape=(), dtype=float32)\n"
          ]
        }
      ]
    },
    {
      "cell_type": "code",
      "source": [
        "# Hadamard product (element-wise multiplication).\n",
        "hadamard = tf.einsum(\"ij,ij->ij\", x, x)\n",
        "tf.debugging.assert_near(hadamard, tf.multiply(x, x))"
      ],
      "metadata": {
        "id": "AVRmGaty_yf0",
        "executionInfo": {
          "status": "ok",
          "timestamp": 1646248134571,
          "user_tz": 480,
          "elapsed": 2,
          "user": {
            "displayName": "Gaurav Menghani",
            "photoUrl": "https://lh3.googleusercontent.com/a-/AOh14Gin4YmK07KbTQCOaEDTSVJmp82YzqBN42-_CGyK=s64",
            "userId": "08715221840527271338"
          }
        }
      },
      "execution_count": 66,
      "outputs": []
    },
    {
      "cell_type": "code",
      "source": [
        "x1 = tf.random.uniform((1, 2))\n",
        "print(x1)\n",
        "x2 = tf.random.uniform((1, 3))\n",
        "print(x2)"
      ],
      "metadata": {
        "id": "tvwoc4PECeMi",
        "executionInfo": {
          "status": "ok",
          "timestamp": 1646248253107,
          "user_tz": 480,
          "elapsed": 3,
          "user": {
            "displayName": "Gaurav Menghani",
            "photoUrl": "https://lh3.googleusercontent.com/a-/AOh14Gin4YmK07KbTQCOaEDTSVJmp82YzqBN42-_CGyK=s64",
            "userId": "08715221840527271338"
          }
        },
        "outputId": "eb817cd8-f18e-429d-fa3c-ab0e4c13cad7"
      },
      "execution_count": 69,
      "outputs": [
        {
          "output_type": "stream",
          "name": "stdout",
          "text": [
            "tf.Tensor([[0.24436545 0.2866938 ]], shape=(1, 2), dtype=float32)\n",
            "tf.Tensor([[0.5276089  0.28632748 0.6086776 ]], shape=(1, 3), dtype=float32)\n"
          ]
        }
      ]
    },
    {
      "cell_type": "code",
      "source": [
        "# Outer product of two vectors.\n",
        "# Ignore i and k, since they are set to 1 just to keep TF happy.\n",
        "outer_product = tf.einsum(\"ij,kl->jl\", x1, x2)\n",
        "tf.debugging.assert_near(\n",
        "    outer_product,\n",
        "    tf.squeeze(tf.tensordot(x1, x2, axes=0)))"
      ],
      "metadata": {
        "id": "RzsK5VZdClgQ",
        "executionInfo": {
          "status": "ok",
          "timestamp": 1646248410335,
          "user_tz": 480,
          "elapsed": 2,
          "user": {
            "displayName": "Gaurav Menghani",
            "photoUrl": "https://lh3.googleusercontent.com/a-/AOh14Gin4YmK07KbTQCOaEDTSVJmp82YzqBN42-_CGyK=s64",
            "userId": "08715221840527271338"
          }
        }
      },
      "execution_count": 74,
      "outputs": []
    },
    {
      "cell_type": "code",
      "source": [
        "# Batch matrix multiplication.\n",
        "xb_1 = tf.random.uniform((4, 3, 2))\n",
        "xb_2 = tf.random.uniform((4, 2, 3))\n",
        "batch_mm = tf.einsum(\"ijk,ikl->ijl\", xb_1, xb_2)\n",
        "tf.debugging.assert_near(\n",
        "    batch_mm,\n",
        "    tf.matmul(xb_1, xb_2))"
      ],
      "metadata": {
        "id": "2XEGpNkuC-Xv",
        "executionInfo": {
          "status": "ok",
          "timestamp": 1646248854355,
          "user_tz": 480,
          "elapsed": 2,
          "user": {
            "displayName": "Gaurav Menghani",
            "photoUrl": "https://lh3.googleusercontent.com/a-/AOh14Gin4YmK07KbTQCOaEDTSVJmp82YzqBN42-_CGyK=s64",
            "userId": "08715221840527271338"
          }
        }
      },
      "execution_count": 75,
      "outputs": []
    },
    {
      "cell_type": "code",
      "source": [
        "# Create a square matrix. \n",
        "x_d = tf.random.uniform((3, 3))\n",
        "print(x_d)"
      ],
      "metadata": {
        "id": "JrL6Mu2yFDhB",
        "executionInfo": {
          "status": "ok",
          "timestamp": 1646249398291,
          "user_tz": 480,
          "elapsed": 3,
          "user": {
            "displayName": "Gaurav Menghani",
            "photoUrl": "https://lh3.googleusercontent.com/a-/AOh14Gin4YmK07KbTQCOaEDTSVJmp82YzqBN42-_CGyK=s64",
            "userId": "08715221840527271338"
          }
        },
        "outputId": "f4801e9b-1026-41a7-806d-b5736f06cc14"
      },
      "execution_count": 83,
      "outputs": [
        {
          "output_type": "stream",
          "name": "stdout",
          "text": [
            "tf.Tensor(\n",
            "[[0.3436594  0.5534719  0.2811308 ]\n",
            " [0.36066985 0.4359125  0.6491792 ]\n",
            " [0.5480267  0.27624607 0.30795145]], shape=(3, 3), dtype=float32)\n"
          ]
        }
      ]
    },
    {
      "cell_type": "code",
      "source": [
        "# Obtain a square matrix's diagonal.\n",
        "diag = tf.einsum(\"ii->i\", x_d)\n",
        "print(diag)\n",
        "tf.assert_equal(\n",
        "    diag,\n",
        "    tf.linalg.diag_part(x_d))"
      ],
      "metadata": {
        "id": "f-msykqTHAMb",
        "executionInfo": {
          "status": "ok",
          "timestamp": 1646249399595,
          "user_tz": 480,
          "elapsed": 52,
          "user": {
            "displayName": "Gaurav Menghani",
            "photoUrl": "https://lh3.googleusercontent.com/a-/AOh14Gin4YmK07KbTQCOaEDTSVJmp82YzqBN42-_CGyK=s64",
            "userId": "08715221840527271338"
          }
        },
        "outputId": "789693aa-d748-41e1-f767-26d129e006bc"
      },
      "execution_count": 84,
      "outputs": [
        {
          "output_type": "stream",
          "name": "stdout",
          "text": [
            "tf.Tensor([0.3436594  0.4359125  0.30795145], shape=(3,), dtype=float32)\n"
          ]
        }
      ]
    },
    {
      "cell_type": "code",
      "source": [
        "# Matrix trace (sum of the elements on the upper left diag).\n",
        "diag_sum = tf.einsum(\"ii->\", x_d)\n",
        "print(diag_sum)\n",
        "tf.assert_equal(diag_sum, tf.reduce_sum(diag))"
      ],
      "metadata": {
        "id": "jE2amth-FGCG",
        "executionInfo": {
          "status": "ok",
          "timestamp": 1646249401234,
          "user_tz": 480,
          "elapsed": 2,
          "user": {
            "displayName": "Gaurav Menghani",
            "photoUrl": "https://lh3.googleusercontent.com/a-/AOh14Gin4YmK07KbTQCOaEDTSVJmp82YzqBN42-_CGyK=s64",
            "userId": "08715221840527271338"
          }
        },
        "outputId": "b36a76d9-07ad-4789-cb75-ed3dac5daab3"
      },
      "execution_count": 85,
      "outputs": [
        {
          "output_type": "stream",
          "name": "stdout",
          "text": [
            "tf.Tensor(1.0875233, shape=(), dtype=float32)\n"
          ]
        }
      ]
    }
  ]
}